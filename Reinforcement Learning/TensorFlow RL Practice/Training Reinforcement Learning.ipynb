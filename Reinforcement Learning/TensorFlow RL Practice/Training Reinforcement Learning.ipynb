{
 "cells": [
  {
   "cell_type": "markdown",
   "metadata": {},
   "source": [
    "# Introduction to OpenAI Gym\n",
    "\n",
    "One of the challenges of RL is that in order to train an agent you first need to have a working environment. OpenAI gym is a toolkit that provides a wide variety of simulated environments so you can train agents, compare them, or develop new RL algorithms."
   ]
  },
  {
   "cell_type": "code",
   "execution_count": 1,
   "metadata": {},
   "outputs": [
    {
     "name": "stdout",
     "output_type": "stream",
     "text": [
      "Collecting gym\n",
      "\u001b[?25l  Downloading https://files.pythonhosted.org/packages/d4/22/4ff09745ade385ffe707fb5f053548f0f6a6e7d5e98a2b9d6c07f5b931a7/gym-0.10.9.tar.gz (1.5MB)\n",
      "\u001b[K    100% |████████████████████████████████| 1.5MB 2.5MB/s ta 0:00:011\n",
      "\u001b[?25hRequirement already satisfied, skipping upgrade: scipy in /Users/siddharth/anaconda3/lib/python3.7/site-packages (from gym) (1.1.0)\n",
      "Requirement already satisfied, skipping upgrade: numpy>=1.10.4 in /Users/siddharth/anaconda3/lib/python3.7/site-packages (from gym) (1.15.1)\n",
      "Requirement already satisfied, skipping upgrade: requests>=2.0 in /Users/siddharth/anaconda3/lib/python3.7/site-packages (from gym) (2.19.1)\n",
      "Requirement already satisfied, skipping upgrade: six in /Users/siddharth/anaconda3/lib/python3.7/site-packages (from gym) (1.11.0)\n",
      "Collecting pyglet>=1.2.0 (from gym)\n",
      "\u001b[?25l  Downloading https://files.pythonhosted.org/packages/1c/fc/dad5eaaab68f0c21e2f906a94ddb98175662cc5a654eee404d59554ce0fa/pyglet-1.3.2-py2.py3-none-any.whl (1.0MB)\n",
      "\u001b[K    100% |████████████████████████████████| 1.0MB 1.6MB/s ta 0:00:011\n",
      "\u001b[?25hRequirement already satisfied, skipping upgrade: chardet<3.1.0,>=3.0.2 in /Users/siddharth/anaconda3/lib/python3.7/site-packages (from requests>=2.0->gym) (3.0.4)\n",
      "Requirement already satisfied, skipping upgrade: urllib3<1.24,>=1.21.1 in /Users/siddharth/anaconda3/lib/python3.7/site-packages (from requests>=2.0->gym) (1.23)\n",
      "Requirement already satisfied, skipping upgrade: certifi>=2017.4.17 in /Users/siddharth/anaconda3/lib/python3.7/site-packages (from requests>=2.0->gym) (2018.8.24)\n",
      "Requirement already satisfied, skipping upgrade: idna<2.8,>=2.5 in /Users/siddharth/anaconda3/lib/python3.7/site-packages (from requests>=2.0->gym) (2.7)\n",
      "Collecting future (from pyglet>=1.2.0->gym)\n",
      "\u001b[?25l  Downloading https://files.pythonhosted.org/packages/90/52/e20466b85000a181e1e144fd8305caf2cf475e2f9674e797b222f8105f5f/future-0.17.1.tar.gz (829kB)\n",
      "\u001b[K    100% |████████████████████████████████| 829kB 1.4MB/s ta 0:00:011\n",
      "\u001b[?25hBuilding wheels for collected packages: gym, future\n",
      "  Running setup.py bdist_wheel for gym ... \u001b[?25ldone\n",
      "\u001b[?25h  Stored in directory: /Users/siddharth/Library/Caches/pip/wheels/6c/3a/0e/b86dee98876bb56cdb482cc1f72201035e46d1baf69d10d028\n",
      "  Running setup.py bdist_wheel for future ... \u001b[?25ldone\n",
      "\u001b[?25h  Stored in directory: /Users/siddharth/Library/Caches/pip/wheels/0c/61/d2/d6b7317325828fbb39ee6ad559dbe4664d0896da4721bf379e\n",
      "Successfully built gym future\n",
      "Installing collected packages: future, pyglet, gym\n",
      "Successfully installed future-0.17.1 gym-0.10.9 pyglet-1.3.2\n"
     ]
    }
   ],
   "source": [
    "#Installing OpenAI Gym\n",
    "#import sys\n",
    "#!{sys.executable} -m pip install --upgrade gym"
   ]
  },
  {
   "cell_type": "code",
   "execution_count": 1,
   "metadata": {},
   "outputs": [],
   "source": [
    "import gym"
   ]
  },
  {
   "cell_type": "markdown",
   "metadata": {},
   "source": [
    "Now create the first environment:"
   ]
  },
  {
   "cell_type": "code",
   "execution_count": 2,
   "metadata": {},
   "outputs": [
    {
     "data": {
      "text/plain": [
       "array([-0.04303083,  0.04961465,  0.00299637, -0.02529808])"
      ]
     },
     "execution_count": 2,
     "metadata": {},
     "output_type": "execute_result"
    }
   ],
   "source": [
    "env = gym.make(\"CartPole-v0\")\n",
    "obs = env.reset()\n",
    "obs\n",
    "env.render()"
   ]
  },
  {
   "cell_type": "markdown",
   "metadata": {},
   "source": [
    "The make() function creates an environment, in this case a CartPole environment. This is a 2D simulation in which a cart can be accelerated left or right in order to balance a pole placed on top of it.\n",
    "\n",
    "After the environment is created, we must initialize the reset() method. this returns the first observation. Observation depends on the type of environment. For the CartPole environment, each observation is a 1D NumPy array containing four floats: these floats represent the cart's horizontal position (0.0 = center), its velocity, the angle of the pole (0.0 = vertical) and its angular velocity. \n",
    "\n",
    "Finally, the render() method displays the environment.\n",
    "\n",
    "If you want the render() to return the rendered image as a NumPy array, you can set the mode parameter to rgb_array(note that other environments may support different modes):"
   ]
  },
  {
   "cell_type": "code",
   "execution_count": 3,
   "metadata": {},
   "outputs": [
    {
     "data": {
      "text/plain": [
       "(400, 600, 3)"
      ]
     },
     "execution_count": 3,
     "metadata": {},
     "output_type": "execute_result"
    }
   ],
   "source": [
    "img = env.render(mode = \"rgb_array\")\n",
    "img.shape #height, width, channels (3 = RGB)"
   ]
  },
  {
   "cell_type": "markdown",
   "metadata": {},
   "source": [
    "Let,s ask the environment which actions are possible:"
   ]
  },
  {
   "cell_type": "code",
   "execution_count": 4,
   "metadata": {},
   "outputs": [
    {
     "data": {
      "text/plain": [
       "Discrete(2)"
      ]
     },
     "execution_count": 4,
     "metadata": {},
     "output_type": "execute_result"
    }
   ],
   "source": [
    "env.action_space"
   ]
  },
  {
   "cell_type": "markdown",
   "metadata": {},
   "source": [
    "Discrete(2) means that the possible actions are integers 0 and 1, which represent accelerating left(0) and right (1). Other environments may have more discrete kinds of actions. \n",
    "\n",
    "Since pole is leaning towards the right, lets accelerate it towards the right:"
   ]
  },
  {
   "cell_type": "code",
   "execution_count": 5,
   "metadata": {},
   "outputs": [
    {
     "data": {
      "text/plain": [
       "array([-0.04203854,  0.2446935 ,  0.00249041, -0.31703411])"
      ]
     },
     "execution_count": 5,
     "metadata": {},
     "output_type": "execute_result"
    }
   ],
   "source": [
    "action = 1 #accelerate right\n",
    "obs, reward, done, info = env.step(action)\n",
    "obs"
   ]
  },
  {
   "cell_type": "code",
   "execution_count": 6,
   "metadata": {},
   "outputs": [
    {
     "data": {
      "text/plain": [
       "1.0"
      ]
     },
     "execution_count": 6,
     "metadata": {},
     "output_type": "execute_result"
    }
   ],
   "source": [
    "reward"
   ]
  },
  {
   "cell_type": "code",
   "execution_count": 7,
   "metadata": {},
   "outputs": [
    {
     "data": {
      "text/plain": [
       "False"
      ]
     },
     "execution_count": 7,
     "metadata": {},
     "output_type": "execute_result"
    }
   ],
   "source": [
    "done"
   ]
  },
  {
   "cell_type": "code",
   "execution_count": 8,
   "metadata": {},
   "outputs": [
    {
     "data": {
      "text/plain": [
       "{}"
      ]
     },
     "execution_count": 8,
     "metadata": {},
     "output_type": "execute_result"
    }
   ],
   "source": [
    "info"
   ]
  },
  {
   "cell_type": "markdown",
   "metadata": {},
   "source": [
    "The step() method executes the given action and returns four values:\n",
    "\n",
    "*obs*\n",
    "\n",
    "This is the new observation. The cart is now moving towards the right (obs[1] > 0). The pole is still tilted towards the right (obs[2]>0), but its angular velocity is now negative (obs[3]<0), so it will likely be tilted towards the left after the next step.\n",
    "\n",
    "*reward*\n",
    "\n",
    "In this environment, you get a reward of 1.0 at every step, no matter what you do, so the goal is to keep running as long as possible.\n",
    "\n",
    "*done*\n",
    "\n",
    "This value will be True when the episode is over. This will happen when the pole tilts too much. After that, the environment must be reset before it can be used again.\n",
    "\n",
    "*info*\n",
    "\n",
    "This dictionary may provide extra debug information in other environments. This data should NOT be used be for training (it would be cheating).\n",
    "\n",
    "Let's hardcode a simple policy that accelerates left when pole is leaning toward the left and accelerates right when pole is leaning towards the right. We will run this policy to see the average rewards it gets over 500 episodes\n"
   ]
  },
  {
   "cell_type": "code",
   "execution_count": 9,
   "metadata": {},
   "outputs": [],
   "source": [
    "def basic_policy(obs):\n",
    "    angle = obs[2]\n",
    "    return 0 if angle <0 else 1\n",
    "\n",
    "totals = []\n",
    "\n",
    "for episode in range(500):\n",
    "    episode_rewards = 0\n",
    "    obs = env.reset()\n",
    "    for step in range(1000): #1000 steps max\n",
    "        action = basic_policy(obs)\n",
    "        obs, reward, done, info = env.step(action)\n",
    "        episode_rewards += reward\n",
    "        if done:\n",
    "            break\n",
    "    totals.append(episode_rewards)"
   ]
  },
  {
   "cell_type": "code",
   "execution_count": 10,
   "metadata": {},
   "outputs": [],
   "source": [
    "import numpy as np"
   ]
  },
  {
   "cell_type": "code",
   "execution_count": 11,
   "metadata": {},
   "outputs": [
    {
     "data": {
      "text/plain": [
       "(41.738, 8.475928031785074, 24.0, 71.0)"
      ]
     },
     "execution_count": 11,
     "metadata": {},
     "output_type": "execute_result"
    }
   ],
   "source": [
    "np.mean(totals), np.std(totals), np.min(totals), np.max(totals)"
   ]
  },
  {
   "cell_type": "markdown",
   "metadata": {},
   "source": [
    "Even with 500 tries, this policy never managed to keep the pole upright for more than 68 consecutive steps. Let's see if neural network can come up with a better policy.\n",
    "\n",
    "## Neural Network Policies\n",
    "\n",
    "The neural network will take an observation as input, and it will build a probability for each output action. It will then select an action randomly according to these estimated probabilities.\n",
    "\n",
    "The reason we pick action randomly from the estimated probabilities instead of the action WITH *highest* probability is because we want to **explore** the action space rather than just exploit it. "
   ]
  },
  {
   "cell_type": "code",
   "execution_count": 12,
   "metadata": {},
   "outputs": [],
   "source": [
    "import tensorflow as tf\n",
    "from tensorflow.contrib.layers import fully_connected"
   ]
  },
  {
   "cell_type": "code",
   "execution_count": 13,
   "metadata": {},
   "outputs": [],
   "source": [
    "#1. Specify the neural network architecture\n",
    "\n",
    "n_inputs = 4 # == env.observation_space.shape[0]\n",
    "n_hidden = 4 #simple task, dont need more hidden neurons\n",
    "n_outputs = 1 #only 1 outputs the probability of accelerating left\n",
    "initializer = tf.contrib.layers.variance_scaling_initializer()"
   ]
  },
  {
   "cell_type": "code",
   "execution_count": 14,
   "metadata": {},
   "outputs": [],
   "source": [
    "#2. Build the neural network\n",
    "X = tf.placeholder(tf.float32, shape = [None, n_inputs])\n",
    "hidden = fully_connected(X, n_hidden, activation_fn = tf.nn.elu,\n",
    "                        weights_initializer = initializer)\n",
    "logits = fully_connected(hidden, n_outputs, activation_fn = None,\n",
    "                        weights_initializer = initializer)\n",
    "outputs = tf.nn.sigmoid(logits)"
   ]
  },
  {
   "cell_type": "code",
   "execution_count": 28,
   "metadata": {},
   "outputs": [],
   "source": [
    "#3. Select a random action based on the estimated probabilities\n",
    "#no axis input exists in tf.concat. It's concat_dim now.\n",
    "p_left_and_right = tf.concat(concat_dim = 1, values = [outputs, \n",
    "                                                1-outputs])\n",
    "action = tf.multinomial(tf.log(p_left_and_right), num_samples = 1)\n",
    "\n",
    "init = tf.global_variables_initializer()\n",
    "saver = tf.train.Saver()"
   ]
  },
  {
   "cell_type": "markdown",
   "metadata": {},
   "source": [
    "In this cdoe:\n",
    "- After the imports, we define a neural network architecture.\n",
    "\n",
    "\n",
    "- Next we build the neural network. In this example, its a vanilla Multi-Layer Perceptron with a single output. Note that the output layer uses the logistic(sigmoid) activation function in order to output a probability from 0.0 to 1.0. If there were more outputs then we would use softmax activation instead.\n",
    "\n",
    "\n",
    "- Lastly, we call the multinomial() function to pick a random action. The function independently samples one(or more) integers, given the log probability of each integer, For example, if you call it with the array [np.log(0.5), np.log(0.2), np.log(0.3)] and with num_samples = 5, then it will output five integers, each of which will have a 50% probability of being 0, 20% of being 1 and 30% of being 2. \n",
    "\n",
    "\n",
    "- In our case we just need one integer representing the action to take. Since the outputs tensor only contains the probability of going left, we must first concatenate 1-outputs to it to have tensor containing the probability of both left and right actions. Note that if there were more than two possible actions, the neural network would have to output one probability per action so you would not need a concatenation step.\n",
    "\n",
    "## Evaluating Actions: The Credit Assignment Problem\n",
    "\n",
    "Since there are many actions that can be taken before seeing an agent fail, it becomes difficult to determine which particular action/s were responsible for this failure. In these situations we apply a discounted weight (0.95) on each action taken from the present day to the past to put a weight on each of the actions taken. The rewards of which are normalized (subract mean, divide by std deviation) and the positive scoring results are considered.\n",
    "\n",
    "## Policy Gradients\n",
    "\n",
    "Creating gradients for an agent in a system over multiple trials. The positive gradients are reinforced by moving in the direction of those gradients and the negative gradients are reinforced by moving away from the direction of these gradients. The magnitude of movement depends on the reward scores of each action.\n",
    "\n",
    "The implementation is as follows. \n",
    "\n",
    "We will train the neural network policy we built earlier so that it learns to balance the pole on the cart. Let's start by completing the construction phase we coded earlier to add the target probability, cost function, and the training operation. Since we are acting as though the chosen action is the best possible action, the target probability must be 1.0 if chosen action is action 0(left) and 0.0 if it is action 1(right):"
   ]
  },
  {
   "cell_type": "code",
   "execution_count": 19,
   "metadata": {},
   "outputs": [],
   "source": [
    "y = 1. - tf.to_float(action)\n",
    "\n",
    "#Now we have target probability. We will use cross entropy to compute \n",
    "#gradients\n",
    "\n",
    "learning_rate = 0.01\n",
    "\n",
    "cross_entropy = tf.nn.sigmoid_cross_entropy_with_logits(\n",
    "    targets = y, logits = logits)\n",
    "\n",
    "optimizer = tf.train.AdamOptimizer(learning_rate)\n",
    "grads_and_vars = optimizer.compute_gradients(cross_entropy)"
   ]
  },
  {
   "cell_type": "markdown",
   "metadata": {},
   "source": [
    "**Note that we are calling the optimizer's compute_gradients() method instead of the minimize() method. This is because we want to tweak the gradients before we apply them.**\n",
    "\n",
    "The compute_gradients() method returns a list of gradient vector/variable pairs(one pair per trainable variable). Let's all put the gradients in a list, to make it more convenient to obtain their values:"
   ]
  },
  {
   "cell_type": "code",
   "execution_count": 30,
   "metadata": {},
   "outputs": [],
   "source": [
    "gradients = [grad for grad, variable in grads_and_vars]\n",
    "#print(gradients)"
   ]
  },
  {
   "cell_type": "markdown",
   "metadata": {},
   "source": [
    "During the execution phase, the algorithm will run the policy and at each step it will evaluate these gradient tensors and store their values. \n",
    "\n",
    "After multiple iterations these gradients will be tweaked. \n",
    "\n",
    "Next it will need to feed the resulting gradients back to the optimizer so it can perform an optimization step.\n",
    "\n",
    "This means we need **one placeholder per gradeint vector.** \n",
    "\n",
    "Moreover, we must create the operation that will apply the updated gradients. For this we call the optimizer's apply_gradients() function, which takes a list of gradient vector/variable pairs.\n",
    "\n",
    "Instead of giving the original vectors, we will give it a list containing the updated gradients (i.e., the ones fed through gradient placeholders):"
   ]
  },
  {
   "cell_type": "code",
   "execution_count": 31,
   "metadata": {},
   "outputs": [],
   "source": [
    "gradient_placeholders = []\n",
    "grads_and_vars_feed = []\n",
    "for grad, variable in grads_and_vars:\n",
    "    gradient_placeholder = tf.placeholder(tf.float32, shape = grad.get_shape())\n",
    "    gradient_placeholders.append(gradient_placeholder)\n",
    "    grads_and_vars_feed.append((gradient_placeholder, variable))\n",
    "    \n",
    "training_op = optimizer.apply_gradients(grads_and_vars_feed)"
   ]
  },
  {
   "cell_type": "markdown",
   "metadata": {},
   "source": [
    "On to the execution phase. we will ned a couple of functions to compute the total discounted rewards given the raw rewards and to normalize result across multiple episodes."
   ]
  },
  {
   "cell_type": "code",
   "execution_count": 32,
   "metadata": {},
   "outputs": [],
   "source": [
    "def discount_rewards(rewards, discount_rate):\n",
    "    discounted_rewards = np.empty(len(rewards))\n",
    "    cumulative_rewards = 0\n",
    "    for step in reversed(range(len(rewards))):\n",
    "        cumulative_rewards = rewards[step] + cumulative_rewards*discount_rate\n",
    "        discounted_rewards[step] = cumulative_rewards\n",
    "    return discounted_rewards"
   ]
  },
  {
   "cell_type": "code",
   "execution_count": 56,
   "metadata": {},
   "outputs": [],
   "source": [
    "def discount_and_normalize_rewards(all_rewards, discount_rate):\n",
    "    all_discounted_rewards = [discount_rewards(rewards) \n",
    "                              for rewards in all_rewards]\n",
    "    flat_rewards = np.concatenate(all_discounted_rewards)\n",
    "    reward_mean = flat_rewards.mean()\n",
    "    rewards_std = flat_rewards.std()\n",
    "    return [(discounted_rewards - rewards_mean)/rewards_std\n",
    "           for discounted_rewards in all_discounted_rewards]"
   ]
  },
  {
   "cell_type": "markdown",
   "metadata": {},
   "source": [
    "Let's check that this works:"
   ]
  },
  {
   "cell_type": "code",
   "execution_count": 57,
   "metadata": {},
   "outputs": [
    {
     "data": {
      "text/plain": [
       "array([-22., -40., -50.])"
      ]
     },
     "execution_count": 57,
     "metadata": {},
     "output_type": "execute_result"
    }
   ],
   "source": [
    "discount_rewards([10,0,-50], discount_rate = 0.8)"
   ]
  },
  {
   "cell_type": "code",
   "execution_count": null,
   "metadata": {},
   "outputs": [],
   "source": [
    "#Some error in the book here\n",
    "#discount_and_normalize_rewards([[10,0,-50], [10,20]],\n",
    "#                               discount_rate = 0.8)"
   ]
  },
  {
   "cell_type": "markdown",
   "metadata": {},
   "source": [
    "We now have all we need to train the policy:"
   ]
  },
  {
   "cell_type": "code",
   "execution_count": 59,
   "metadata": {},
   "outputs": [],
   "source": [
    "n_iterations = 250      #number of training iterations\n",
    "n_max_steps = 1000      #max steps per episode\n",
    "n_games_per_update = 10 #train policy every 10 episodes\n",
    "save_iterations = 10    #Save the model every 10 training iterations\n",
    "discount_rate = 0.95\n",
    "\n",
    "with tf.Session() as sess:\n",
    "    init.run()\n",
    "    for iterations in range(n_iterations):\n",
    "        all_rewards = [] #all sequences of raw rewards for each episode\n",
    "        all_gradients = [] #gradients saved at each step of each episode\n",
    "        for game in range(n_games_per_update):\n",
    "            current_rewards = [] #all raw rewards from the current episode\n",
    "            current_gradients = [] #all gradients from the current episode\n",
    "            obs = env.reset()\n",
    "            for steps in range(n_max_steps):\n",
    "                action_val, gradient_val = sess.run(\n",
    "                    [action, gradients],\n",
    "                    feed_dict = {X: obs.reshape(1, n_inputs)}) #one obs\n",
    "                obs, reward, done, info = env.step(action_val[0][0])\n",
    "                current_rewards.append(reward)\n",
    "                current_gradients.append(gradients_val)\n",
    "                if done:\n",
    "                    break\n",
    "            all_rewards.append(current_rewards)\n",
    "            all_gradients.append(current_gradients)\n",
    "            \n",
    "        #At this point we have run the policy for 10 episodes, and we are\n",
    "        #ready for a policy update using alogirthm described earlier\n",
    "        \n",
    "        all_rewards = discount_and_normalize_rewards(all_rewards)\n",
    "        feed_dict{}\n",
    "        \n",
    "        for var_index, grad_placeholder in enumerate(gradient_placeholders):\n",
    "            #multiply the gradients by the action scores, and compute mean\n",
    "            mean_gradients = np.mean(\n",
    "            [rewards*all_gradients[game_index][step][var_index]\n",
    "            \n",
    "            for game_index, rewards in enumerate(allrewards)\n",
    "            for step, reward in enumerate(rewards)], axis = 0)\n",
    "            \n",
    "            feed_dict[grad_placeholder] = mean_gradients\n",
    "        sess.run(training_op, feed_dict = feed_dict)\n",
    "        if iteration % save_iterations == 0:\n",
    "            saver.save(sess, \"./my_policy_net_pg.ckpt\")"
   ]
  },
  {
   "cell_type": "markdown",
   "metadata": {},
   "source": [
    " Each training iteration starts by running the policy for 10 episodes with maximum 1000 steps per episode. At each step we also compute the gradients pretending that the chosen action was the best. \n",
    " \n",
    " After these 10 episodes have been run, we compute the action scores using the discount_and_normalize_rewards() function;\n",
    " \n",
    " We go through each trainable variable, across all episodes and steps, to multiply each gradient vector by its corresponding action scorel and we compute the mean of the resulting gradients.\n",
    " \n",
    " Finally, we run the training operation, feeding it these mean gradients (one per trainable variable). We also save the model every 10 training oeprations\n",
    " \n",
    " \n",
    " # Markov Decision Processes\n",
    " \n",
    " Used in situation where there are multiple states and multiple actions in each step the agent moves through the system. To find the best state-action pairs we use something called the Q-values.\n",
    " \n",
    " We start by initializing all the Q-Value estimate to zero, then update them using the Q-value iteration algorithm. The optimal Q-Value of the state action pair (s,a) is the sum of discounted future rewards of the agent can expect on average after it reaches the state s and chooses action a, but before it sees the outcome of this action, assuming it behaves optimally after that. \n",
    " \n",
    "Let's apply this algorithm. First we need to define the Markov decision process (MDP):"
   ]
  },
  {
   "cell_type": "code",
   "execution_count": 61,
   "metadata": {},
   "outputs": [],
   "source": [
    "nan = np.nan #represents impossible actions\n",
    "\n",
    "T = np.array([#shape = [s, a, s']\n",
    "    [[0.7, 0.3, 0.0], [1.0, 0.0, 0.0], [0.8,0.2,0.0]],\n",
    "    [[0.0, 1.0, 0.0], [nan, nan, nan], [0.0,0.0,1.0]],\n",
    "    [[nan,nan,nan], [40,0.0,0.0], [nan,nan,nan]], \n",
    "])\n",
    "\n",
    "R = np.array([ #shape = [s,a,s']\n",
    "    [[10., 0.0, 0.0], [0.0, 0.0, 0.0], [0.0, 0.0, 0.0]],\n",
    "    [[10., 0.0, 0.0], [nan, nan, nan], [0.0, 0.0, -50.]],\n",
    "    [[nan, nan, nan], [40., 0.0, 0.0], [nan, nan, nan]],\n",
    "])\n",
    "\n",
    "possible_actions = [[0,1,2], [0,2], [1]]"
   ]
  },
  {
   "cell_type": "code",
   "execution_count": 64,
   "metadata": {},
   "outputs": [],
   "source": [
    "#Now, let's run the Q-value iteration algorithm:\n",
    "\n",
    "Q = np.full((3,3), -np.inf) #-inf for all impossible actions\n",
    "for state, actions in enumerate(possible_actions):\n",
    "    Q[state, actions] = 0.0 #Initial value = 0.0 for all possible actions\n",
    "    \n",
    "learning_rate = 0.01\n",
    "discount_rate = 0.95\n",
    "n_iterations = 100\n",
    "\n",
    "for iteration in range(n_iterations):\n",
    "    Q_prev = Q.copy()\n",
    "    for s in range(3):\n",
    "        for a in possible_actions[s]:\n",
    "            Q[s,a] = np.sum([\n",
    "                T[s,a,sp]*(R[s,a,sp] + discount_rate*np.max(Q_prev[sp]))\n",
    "                for sp in range(3)\n",
    "            ])\n",
    "    "
   ]
  },
  {
   "cell_type": "code",
   "execution_count": 65,
   "metadata": {},
   "outputs": [
    {
     "data": {
      "text/plain": [
       "array([[5.59419690e+39, 2.19540396e+39, 4.46126592e+39],\n",
       "       [1.35247138e+40,           -inf, 3.44628523e+40],\n",
       "       [          -inf, 8.78161582e+40,           -inf]])"
      ]
     },
     "execution_count": 65,
     "metadata": {},
     "output_type": "execute_result"
    }
   ],
   "source": [
    "Q"
   ]
  },
  {
   "cell_type": "code",
   "execution_count": 66,
   "metadata": {},
   "outputs": [
    {
     "data": {
      "text/plain": [
       "array([0, 2, 1])"
      ]
     },
     "execution_count": 66,
     "metadata": {},
     "output_type": "execute_result"
    }
   ],
   "source": [
    "np.argmax(Q, axis = 1) #optimal action for each state"
   ]
  },
  {
   "cell_type": "markdown",
   "metadata": {},
   "source": [
    "This gives us an optimal policy for MDP, when using a discount rate of 0.95: in state $s_0$ choose action $a_0$, in state $s_1$ choose $a_2$ (go through fire), and in state $s_2$ choose actions $a_1$ (the only possible action)\n",
    "\n",
    "Interestingly, if you reduce discount rate to 0.9, the optimal polic changes: in state $s_1$ the best action becomes $a_0$ (stay put, dont go through fire). It makes sense because if you value present more than future, then the prospect of future rewards is not worth immediate pain.\n",
    "\n",
    "## Temporal Difference and Q-Learning\n",
    "\n",
    "Using the TD Learning and Q-Learning algorithms we try and take into account the fact that only the different states and actions are available to an agent. The transition probabilities and rewards are not. In such a scenario we introduce the TD Learning and Q-learning algorithm which work similarly to stochastic gradient descent and learn over time the state-reward pairs through an update mechanism. \n",
    "\n",
    "It can be implemented as follows:"
   ]
  },
  {
   "cell_type": "code",
   "execution_count": 67,
   "metadata": {},
   "outputs": [],
   "source": [
    "import numpy.random as rnd"
   ]
  },
  {
   "cell_type": "code",
   "execution_count": null,
   "metadata": {},
   "outputs": [],
   "source": [
    "learning_rate0 = 0.05\n",
    "learning_rate_decay = 0.1\n",
    "n_iterations = 20000\n",
    "\n",
    "s = 0 #start in state 0\n",
    "\n",
    "Q = np.full((3,3), -np.inf) #-inf for impossible actions\n",
    "for state, actions in enumerate(possible_actions):\n",
    "    Q[state, actions] = 0.0 #initial value = 0.0, for all possible actions\n",
    "    \n",
    "    \n",
    "for iteration in range(n_iterations):\n",
    "    a = rnd.choice(possible_actions[s]) #choose an action randomly\n",
    "    sp = rnd.choice(range(3), p = T[s,a]) #pick next state using T[s,a]\n",
    "    reward = R[s, a, sp]\n",
    "    learning_rate = learning_rate0/(1+iteration * learning_rate_decay)\n",
    "    Q[s, a] = learning_rate * Q[s,a] + (1 - learning_rate) * (\n",
    "        reward + discount_rate * np.max(Q[sp])\n",
    "    )\n",
    "    \n",
    "    s = sp #move to next state\n",
    "        "
   ]
  },
  {
   "cell_type": "markdown",
   "metadata": {},
   "source": [
    "# Learning to Play Ms. PAC-Man Using Deep Q-Learning"
   ]
  },
  {
   "cell_type": "code",
   "execution_count": 103,
   "metadata": {},
   "outputs": [],
   "source": [
    "#install cmake needed to install atari evironments\n",
    "#import sys\n",
    "#!{sys.executable} -m pip install cmake boost boost-python sdl2 swig wget"
   ]
  },
  {
   "cell_type": "code",
   "execution_count": 102,
   "metadata": {},
   "outputs": [],
   "source": [
    "#!{sys.executable} -m pip install boost-py"
   ]
  },
  {
   "cell_type": "code",
   "execution_count": 95,
   "metadata": {},
   "outputs": [
    {
     "data": {
      "text/plain": [
       "(210, 160, 3)"
      ]
     },
     "execution_count": 95,
     "metadata": {},
     "output_type": "execute_result"
    }
   ],
   "source": [
    "env = gym.make(\"MsPacman-v0\")\n",
    "obs = env.reset()\n",
    "obs.shape #[height, width, channel]"
   ]
  },
  {
   "cell_type": "code",
   "execution_count": 96,
   "metadata": {},
   "outputs": [
    {
     "data": {
      "text/plain": [
       "Discrete(9)"
      ]
     },
     "execution_count": 96,
     "metadata": {},
     "output_type": "execute_result"
    }
   ],
   "source": [
    "env.action_space"
   ]
  },
  {
   "cell_type": "markdown",
   "metadata": {},
   "source": [
    "As you can see, there are nine discrete actions available which correspond to the nine possible positions of the joystick (left, right, up, down, center, upper left, and so on), and the observations are screenshots of Atari screen, represented as 3D NumPy arrays.\n",
    "\n",
    "These images are a bit large, so we will create a small preprocessing function that will crop the image and shrink it down to 88x80 pixels, convert it to grascale, and improve the contrast of Ms.Pac-Man. This will reduce the amount f computations required by the DQN, and speed up training."
   ]
  },
  {
   "cell_type": "code",
   "execution_count": 99,
   "metadata": {},
   "outputs": [],
   "source": [
    "import matplotlib.pyplot as plt"
   ]
  },
  {
   "cell_type": "code",
   "execution_count": 105,
   "metadata": {},
   "outputs": [],
   "source": [
    "\n",
    "mspacman_color = np.array([210,164,74]).mean()\n",
    "\n",
    "def preprocess_observation(obs):\n",
    "    img = obs[1:176:2, ::2] #crop and downsize\n",
    "    img = img.mean(axis = 2) #to greyscale\n",
    "    img[img==mspacman_color] = 0 #improve contrast\n",
    "    img = (img - 128)/128 - 1 #normalize from -1. to 1.\n",
    "    return img.reshape(88,80,1)\n",
    "\n",
    "img = preprocess_observation(obs)"
   ]
  },
  {
   "cell_type": "code",
   "execution_count": 106,
   "metadata": {},
   "outputs": [
    {
     "data": {
      "image/png": "[encoded data removed]",
      "text/plain": [
       "<Figure size 792x504 with 2 Axes>"
      ]
     },
     "metadata": {
      "needs_background": "light"
     },
     "output_type": "display_data"
    }
   ],
   "source": [
    "plt.figure(figsize=(11, 7))\n",
    "plt.subplot(121)\n",
    "plt.title(\"Original observation (160×210 RGB)\")\n",
    "plt.imshow(obs)\n",
    "plt.axis(\"off\")\n",
    "plt.subplot(122)\n",
    "plt.title(\"Preprocessed observation (88×80 greyscale)\")\n",
    "plt.imshow(img.reshape(88, 80), interpolation=\"nearest\", cmap=\"gray\")\n",
    "plt.axis(\"off\")\n",
    "plt.show()"
   ]
  },
  {
   "cell_type": "markdown",
   "metadata": {},
   "source": [
    "Next, let's create the DQN. It could just take state-action pair(s,a) as input, and output an estimate of the corresponding Q-value Q(s,a) but since the actions are discrete it is more convenient to use neural networks that takes only state s as input and outputs one Q-Value estimate per action.\n",
    "\n",
    "The DQN will be composed of three convolutional layers, followed by two fully connected layers, including the output layer. \n",
    "\n",
    "As we will see, the training algorithm we will use requires two DQNs, with the same architecture (but different parameters): one will be used to drive Ms. Pac-Man during training (the actor), and the other will watch the actor and learn from its trials and errors (the critic). At regular intervals we will copy the critic to the actor.\n",
    "\n",
    "Since we need two identical DQNs, we will create a q_network() function to build them:"
   ]
  },
  {
   "cell_type": "code",
   "execution_count": 118,
   "metadata": {},
   "outputs": [],
   "source": [
    "from tensorflow.contrib.layers import convolution2d, fully_connected"
   ]
  },
  {
   "cell_type": "code",
   "execution_count": 119,
   "metadata": {},
   "outputs": [],
   "source": [
    "tf.reset_default_graph()\n",
    "\n",
    "input_height = 88\n",
    "input_width = 80\n",
    "input_channels = 1\n",
    "conv_n_maps = [32, 64, 64]\n",
    "conv_kernel_sizes = [(8,8), (4,4), (3,3)]\n",
    "conv_strides = [4,2,1]\n",
    "conv_paddings = [\"SAME\"]*3\n",
    "conv_activation = [tf.nn.relu]*3\n",
    "n_hidden_in = 64*11*10 #conv3 has 64 maps of 11x10 each\n",
    "n_hidden = 512\n",
    "hidden_activation = tf.nn.relu\n",
    "n_outputs = env.action_space.n #9 discrete actions are available\n",
    "initializer = tf.contrib.layers.variance_scaling_initializer()"
   ]
  },
  {
   "cell_type": "code",
   "execution_count": 120,
   "metadata": {},
   "outputs": [],
   "source": [
    "def q_network(X_state, scope):\n",
    "    prev_layer = X_state\n",
    "    conv_layer = []\n",
    "    with tf.variable_scope(scope) as scope:\n",
    "        for n_maps, kernel_size, stride, padding, activation in zip(\n",
    "            conv_n_maps, conv_kernel_sizes, conv_strides,\n",
    "            conv_paddings, conv_activation):\n",
    "            prev_layer = convolution2d(\n",
    "                prev_layer, num_outputs = n_maps, kernel_size = kernel_size,\n",
    "                stride = stride, padding = padding, activation_fn = activation,\n",
    "                weights_initializer = initializer)\n",
    "            conv_layers.append(prev_layer)\n",
    "        last_conv_layer_flat = tf.reshape(prev_layer, shape = [-1, n_hidden_in])\n",
    "        hidden = fully_connected(\n",
    "            last_conv_layer_flat, n_hidden, activation_fn = hidden_activation,\n",
    "            weights_initializer = initializer)\n",
    "        outputs = fully_connected(\n",
    "            hidden, n_outputs, activation_fn = None,\n",
    "            weights_initializer = initializer)\n",
    "    \n",
    "    traininable_vars = tf.get_collection(tf.GraphKeys.TRAIANABLE_VARIABLES,\n",
    "                                        scope = scope.name)\n",
    "    trainable_vars_by_name = {var.name[len(scope.name):]: var \n",
    "                             for var in trainable_vars}\n",
    "    \n",
    "    return outputs, trainable_vars_by_name\n",
    "        \n",
    "        "
   ]
  },
  {
   "cell_type": "markdown",
   "metadata": {},
   "source": [
    "The first part of the code defines the hyperparameters of the DQN architecture. The q_network() function creates the DQNm taking the envirionment's state X_State as input, and the name of the variable scope.\n",
    "\n",
    "Note that we will just use one observation to represent the environment's state since theres almost no hidden state (except for blinking objects and ghost's directions).\n",
    "\n",
    "The trainable_vars_by_name dictionary gathers all the trainable variables of this DQN.\n",
    "\n",
    "Now let's create the input placeholder, the two DQNs, and the operation to copy the critic DQN to the actor DQN:"
   ]
  },
  {
   "cell_type": "code",
   "execution_count": null,
   "metadata": {},
   "outputs": [],
   "source": [
    "X_state = tf.placeholder(tf.float32, shape = [None, input_height, input_width,\n",
    "                                             input_channels])\n",
    "\n",
    "actor_q_values, actor_vars = q_network(X_state, scope = \"q_networks/actor\")\n",
    "critic_q_values, critic_vars = q_network(X_state, scope = \"q_networks/critic\")\n",
    "\n",
    "copy_ops = [actor_var.assign(critic_vars[var_name])\n",
    "           \n",
    "           for var_name, actor_var in actor_vars.items()]\n",
    "\n",
    "copy_critic_to_actor = tf.group(*copy_ops)\n"
   ]
  },
  {
   "cell_type": "code",
   "execution_count": null,
   "metadata": {},
   "outputs": [],
   "source": []
  }
 ],
 "metadata": {
  "kernelspec": {
   "display_name": "Python 3",
   "language": "python",
   "name": "python3"
  },
  "language_info": {
   "codemirror_mode": {
    "name": "ipython",
    "version": 3
   },
   "file_extension": ".py",
   "mimetype": "text/x-python",
   "name": "python",
   "nbconvert_exporter": "python",
   "pygments_lexer": "ipython3",
   "version": "3.7.0"
  }
 },
 "nbformat": 4,
 "nbformat_minor": 2
}
